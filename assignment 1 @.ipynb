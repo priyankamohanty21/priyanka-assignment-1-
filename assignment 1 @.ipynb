{
 "cells": [
  {
   "cell_type": "code",
   "execution_count": null,
   "id": "25e8110d-0de0-4552-b547-43c779ed7018",
   "metadata": {},
   "outputs": [],
   "source": [
    "1.  Ans- values are ‘hello’,-87.8.\n",
    "Expression are +,/,-.\n",
    "\n"
   ]
  },
  {
   "cell_type": "code",
   "execution_count": null,
   "id": "892bee4c-6181-4056-bd43-49788963efce",
   "metadata": {},
   "outputs": [],
   "source": [
    "2.Ans- string- string in python are sequence of character data. They created by enclosing characters in quotes.\n",
    "Variable- a variable is named location used to store data in memory. It is declared by writing the variable name and assigning it a value using the equal sign(=).\n",
    "\n"
   ]
  },
  {
   "cell_type": "code",
   "execution_count": null,
   "id": "64cfbb1b-5e7d-43ec-b962-8f3c0968a464",
   "metadata": {},
   "outputs": [],
   "source": [
    "3.Ans- Integer- integer are whole number, without a fraction component. they can be positive or negative.\n",
    "Float-those represent real numbers and are written with a decimal point.\n",
    "String- string in python is sequence of character data. They created by enclosing characters in quotes.\n"
   ]
  },
  {
   "cell_type": "code",
   "execution_count": null,
   "id": "87dc336d-c97f-4881-83ec-fac84c564c11",
   "metadata": {},
   "outputs": [],
   "source": [
    "4. ans- An expression is a combination of values, variables, operators, and calls to function."
   ]
  },
  {
   "cell_type": "code",
   "execution_count": null,
   "id": "700b81ba-3fa7-4f46-a77b-f923f0282b07",
   "metadata": {},
   "outputs": [],
   "source": [
    "5.Ans- statement in python is not evaluated for results. An expression in python is evaluated for some results."
   ]
  },
  {
   "cell_type": "code",
   "execution_count": null,
   "id": "387fc890-032b-4d25-8616-62bd864d9c97",
   "metadata": {},
   "outputs": [
    {
     "data": {
      "text/plain": [
       "23"
      ]
     },
     "execution_count": 11,
     "metadata": {},
     "output_type": "execute_result"
    }
   ],
   "source": [
    "bacon=22\n",
    "bacon + 1\n",
    " "
   ]
  },
  {
   "cell_type": "code",
   "execution_count": null,
   "id": "77ab0443-7cdf-4421-bc4d-49e84c243147",
   "metadata": {},
   "outputs": [],
   "source": [
    "8. because variable name cannot begin with number."
   ]
  },
  {
   "cell_type": "code",
   "execution_count": null,
   "id": "9867c383-c221-489c-aeac-72e962657fe8",
   "metadata": {},
   "outputs": [],
   "source": [
    "9.Ans- integer- x=5\n",
    "      Float- X=5.00\n",
    "String- nm=\"alice”\n"
   ]
  },
  {
   "cell_type": "code",
   "execution_count": null,
   "id": "cc919129-5255-4906-9254-bd2e51c3db5d",
   "metadata": {},
   "outputs": [],
   "source": [
    "10.Ans- can only concatenate string (not \"int\") to string. Here remove integer.\n",
    "\n"
   ]
  }
 ],
 "metadata": {
  "kernelspec": {
   "display_name": "Python 3 (ipykernel)",
   "language": "python",
   "name": "python3"
  },
  "language_info": {
   "codemirror_mode": {
    "name": "ipython",
    "version": 3
   },
   "file_extension": ".py",
   "mimetype": "text/x-python",
   "name": "python",
   "nbconvert_exporter": "python",
   "pygments_lexer": "ipython3",
   "version": "3.12.0"
  }
 },
 "nbformat": 4,
 "nbformat_minor": 5
}
